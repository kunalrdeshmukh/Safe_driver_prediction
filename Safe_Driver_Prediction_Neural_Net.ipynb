{
 "cells": [
  {
   "cell_type": "code",
   "execution_count": 1,
   "metadata": {},
   "outputs": [
    {
     "name": "stdout",
     "output_type": "stream",
     "text": [
      "0.18.1\n"
     ]
    }
   ],
   "source": [
    "import pandas as pd\n",
    "import numpy as np\n",
    "import matplotlib.pyplot as plt\n",
    "\n",
    "# machine learning modules\n",
    "import sklearn\n",
    "print(sklearn.__version__)\n",
    "from sklearn.ensemble import RandomForestClassifier\n",
    "from sklearn.model_selection import train_test_split, KFold, cross_val_score\n",
    "from sklearn import metrics\n",
    "from sklearn.metrics import roc_auc_score"
   ]
  },
  {
   "cell_type": "code",
   "execution_count": 2,
   "metadata": {
    "collapsed": true
   },
   "outputs": [],
   "source": [
    "train = pd.read_csv('train.csv')\n",
    "test = pd.read_csv('test.csv')\n",
    "test_copy = test\n",
    "test_copy = test_copy.replace(-1, np.NaN)\n",
    "train_copy = train\n",
    "train_copy = train_copy.replace(-1, np.NaN)"
   ]
  },
  {
   "cell_type": "code",
   "execution_count": 3,
   "metadata": {
    "collapsed": true
   },
   "outputs": [],
   "source": [
    "train_copy['ps_ind_02_cat']=train_copy['ps_ind_02_cat'].fillna(train_copy['ps_ind_02_cat'].value_counts().idxmax())\n",
    "train_copy['ps_ind_04_cat'] = train_copy['ps_ind_04_cat'].fillna(train_copy['ps_ind_04_cat'].value_counts().idxmax())\n",
    "train_copy['ps_ind_05_cat']=train_copy['ps_ind_05_cat'].fillna(train_copy['ps_ind_05_cat'].value_counts().idxmax())\n",
    "train_copy['ps_car_01_cat']=train_copy['ps_car_01_cat'].fillna(train_copy['ps_car_01_cat'].value_counts().idxmax())\n",
    "train_copy['ps_car_02_cat']=train_copy['ps_car_02_cat'].fillna(train_copy['ps_car_02_cat'].value_counts().idxmax())\n",
    "train_copy['ps_car_03_cat']=train_copy['ps_car_03_cat'].fillna(train_copy['ps_car_03_cat'].value_counts().idxmax())\n",
    "train_copy['ps_car_05_cat']=train_copy['ps_car_05_cat'].fillna(train_copy['ps_car_05_cat'].value_counts().idxmax())\n",
    "train_copy['ps_car_07_cat']=train_copy['ps_car_07_cat'].fillna(train_copy['ps_car_07_cat'].value_counts().idxmax())\n",
    "train_copy['ps_car_09_cat']=train_copy['ps_car_09_cat'].fillna(train_copy['ps_car_09_cat'].value_counts().idxmax())\n",
    "train_copy['ps_reg_03']=train_copy['ps_reg_03'].fillna(train_copy['ps_reg_03'].mean())\n",
    "train_copy['ps_car_14']=train_copy['ps_car_14'].fillna(train_copy['ps_car_14'].mean())\n",
    "train_copy['ps_car_11']=train_copy['ps_car_11'].fillna(train_copy['ps_car_11'].mean())\n",
    "train_copy['ps_car_12']=train_copy['ps_car_12'].fillna(train_copy['ps_car_12'].mean())"
   ]
  },
  {
   "cell_type": "code",
   "execution_count": 4,
   "metadata": {
    "collapsed": true
   },
   "outputs": [],
   "source": [
    "test_copy['ps_ind_02_cat']=test_copy['ps_ind_02_cat'].fillna(test_copy['ps_ind_02_cat'].value_counts().idxmax())\n",
    "test_copy['ps_ind_04_cat'] = test_copy['ps_ind_04_cat'].fillna(test_copy['ps_ind_04_cat'].value_counts().idxmax())\n",
    "test_copy['ps_ind_05_cat']=test_copy['ps_ind_05_cat'].fillna(test_copy['ps_ind_05_cat'].value_counts().idxmax())\n",
    "test_copy['ps_car_01_cat']=test_copy['ps_car_01_cat'].fillna(test_copy['ps_car_01_cat'].value_counts().idxmax())\n",
    "test_copy['ps_car_02_cat']=test_copy['ps_car_02_cat'].fillna(test_copy['ps_car_02_cat'].value_counts().idxmax())\n",
    "test_copy['ps_car_03_cat']=test_copy['ps_car_03_cat'].fillna(test_copy['ps_car_03_cat'].value_counts().idxmax())\n",
    "test_copy['ps_car_05_cat']=test_copy['ps_car_05_cat'].fillna(test_copy['ps_car_05_cat'].value_counts().idxmax())\n",
    "test_copy['ps_car_07_cat']=test_copy['ps_car_07_cat'].fillna(test_copy['ps_car_07_cat'].value_counts().idxmax())\n",
    "test_copy['ps_car_09_cat']=test_copy['ps_car_09_cat'].fillna(test_copy['ps_car_09_cat'].value_counts().idxmax())\n",
    "test_copy['ps_reg_03']=test_copy['ps_reg_03'].fillna(test_copy['ps_reg_03'].mean())\n",
    "test_copy['ps_car_14']=test_copy['ps_car_14'].fillna(test_copy['ps_car_14'].mean())\n",
    "test_copy['ps_car_11']=test_copy['ps_car_11'].fillna(test_copy['ps_car_11'].mean())\n",
    "test_copy['ps_car_12']=test_copy['ps_car_12'].fillna(test_copy['ps_car_12'].mean())"
   ]
  },
  {
   "cell_type": "code",
   "execution_count": 5,
   "metadata": {
    "collapsed": true
   },
   "outputs": [],
   "source": [
    "test_data = test_copy\n",
    "train_data = train_copy"
   ]
  },
  {
   "cell_type": "code",
   "execution_count": 6,
   "metadata": {
    "collapsed": true
   },
   "outputs": [],
   "source": [
    "train_data = pd.concat([train_data,train_data.loc[train_data['target'] == 1],train_data.loc[train_data['target'] == 1],train_data.loc[train_data['target'] == 1],train_data.loc[train_data['target'] == 1],train_data.loc[train_data['target'] == 1],train_data.loc[train_data['target'] == 1],train_data.loc[train_data['target'] == 1],train_data.loc[train_data['target'] == 1]])"
   ]
  },
  {
   "cell_type": "code",
   "execution_count": null,
   "metadata": {
    "collapsed": true
   },
   "outputs": [],
   "source": [
    "train_data = pd.concat([train_data,train_data.loc[train_data['target'] == 1],train_data.loc[train_data['target'] == 1],train_data.loc[train_data['target'] == 1],train_data.loc[train_data['target'] == 1],train_data.loc[train_data['target'] == 1],train_data.loc[train_data['target'] == 1],train_data.loc[train_data['target'] == 1],train_data.loc[train_data['target'] == 1]])"
   ]
  },
  {
   "cell_type": "code",
   "execution_count": null,
   "metadata": {
    "collapsed": true
   },
   "outputs": [],
   "source": [
    "train_data = pd.concat([train_data,train_data.loc[train_data['target'] == 1],train_data.loc[train_data['target'] == 1],train_data.loc[train_data['target'] == 1],train_data.loc[train_data['target'] == 1],train_data.loc[train_data['target'] == 1],train_data.loc[train_data['target'] == 1],train_data.loc[train_data['target'] == 1],train_data.loc[train_data['target'] == 1]])"
   ]
  },
  {
   "cell_type": "code",
   "execution_count": null,
   "metadata": {
    "collapsed": true
   },
   "outputs": [],
   "source": [
    "train_data = pd.concat([train_data,train_data.loc[train_data['target'] == 1],train_data.loc[train_data['target'] == 1],train_data.loc[train_data['target'] == 1],train_data.loc[train_data['target'] == 1],train_data.loc[train_data['target'] == 1],train_data.loc[train_data['target'] == 1],train_data.loc[train_data['target'] == 1],train_data.loc[train_data['target'] == 1]])"
   ]
  },
  {
   "cell_type": "code",
   "execution_count": null,
   "metadata": {
    "collapsed": true
   },
   "outputs": [],
   "source": [
    "train_data = pd.concat([train_data,train_data.loc[train_data['target'] == 1],train_data.loc[train_data['target'] == 1],train_data.loc[train_data['target'] == 1],train_data.loc[train_data['target'] == 1],train_data.loc[train_data['target'] == 1],train_data.loc[train_data['target'] == 1],train_data.loc[train_data['target'] == 1],train_data.loc[train_data['target'] == 1]])"
   ]
  },
  {
   "cell_type": "code",
   "execution_count": null,
   "metadata": {
    "collapsed": true
   },
   "outputs": [],
   "source": [
    "train_data = pd.concat([train_data,train_data.loc[train_data['target'] == 1],train_data.loc[train_data['target'] == 1],train_data.loc[train_data['target'] == 1],train_data.loc[train_data['target'] == 1],train_data.loc[train_data['target'] == 1],train_data.loc[train_data['target'] == 1],train_data.loc[train_data['target'] == 1],train_data.loc[train_data['target'] == 1]])"
   ]
  },
  {
   "cell_type": "code",
   "execution_count": null,
   "metadata": {
    "collapsed": true
   },
   "outputs": [],
   "source": [
    "train_data = pd.concat([train_data,train_data.loc[train_data['target'] == 1],train_data.loc[train_data['target'] == 1],train_data.loc[train_data['target'] == 1],train_data.loc[train_data['target'] == 1],train_data.loc[train_data['target'] == 1],train_data.loc[train_data['target'] == 1],train_data.loc[train_data['target'] == 1],train_data.loc[train_data['target'] == 1]])"
   ]
  },
  {
   "cell_type": "code",
   "execution_count": null,
   "metadata": {
    "collapsed": true
   },
   "outputs": [],
   "source": [
    "test_data_id = test_data.pop('id')"
   ]
  },
  {
   "cell_type": "code",
   "execution_count": null,
   "metadata": {
    "collapsed": true
   },
   "outputs": [],
   "source": [
    "column_names = train_data.columns\n",
    "categorical_column = column_names[column_names.str[10] == 'c']\n",
    "\n",
    "## Changing categorical columns to category data type\n",
    "def int_to_categorical(data):\n",
    "    \"\"\" \n",
    "    changing columns to catgorical data type\n",
    "    \"\"\"\n",
    "    for column in categorical_column:\n",
    "        data[column] =  data[column].astype('category')"
   ]
  },
  {
   "cell_type": "code",
   "execution_count": null,
   "metadata": {},
   "outputs": [],
   "source": [
    "datas = [train_data,test_data]\n",
    "\n",
    "for data in datas:\n",
    "    int_to_categorical(data)\n",
    "\n",
    "print(test_data.dtypes)"
   ]
  },
  {
   "cell_type": "code",
   "execution_count": null,
   "metadata": {},
   "outputs": [],
   "source": [
    "def creating_dummies(data):\n",
    "    \"\"\"creating dummies columns categorical varibles\n",
    "    \"\"\"\n",
    "    for column in categorical_column:\n",
    "        dummies = pd.get_dummies(data[column],prefix=column)\n",
    "        data = pd.concat([data,dummies],axis =1)\n",
    "        ## dropping the original columns ##\n",
    "        data.drop([column],axis=1,inplace= True)\n",
    "        \n",
    "for column in categorical_column:\n",
    "        dummies = pd.get_dummies(train_data[column],prefix=column)\n",
    "        train_data = pd.concat([train_data,dummies],axis =1)\n",
    "        train_data.drop([column],axis=1,inplace= True)\n",
    "\n",
    "\n",
    "for column in categorical_column:\n",
    "        dummies = pd.get_dummies(test_data[column],prefix=column)\n",
    "        test_data = pd.concat([test_data,dummies],axis =1)\n",
    "        test_data.drop([column],axis=1,inplace= True)\n",
    "\n",
    "print(train_data.shape)\n",
    "print(test_data.shape)"
   ]
  },
  {
   "cell_type": "code",
   "execution_count": null,
   "metadata": {},
   "outputs": [],
   "source": [
    "X = train_data.iloc[:,2:] ## FEATURE DATA\n",
    "y= train_data.target ### LABEL DATA\n",
    "\n",
    "### CHECKING DIMENSIONS\n",
    "print(X.shape)\n",
    "print(y.shape)#### SPLITTING DATA INTO TRAIN AND TEST SETS\n",
    "X_train, X_test, y_train, y_test = train_test_split(X, y)"
   ]
  },
  {
   "cell_type": "code",
   "execution_count": null,
   "metadata": {
    "collapsed": true
   },
   "outputs": [],
   "source": [
    "from sklearn.neural_network import MLPClassifier"
   ]
  },
  {
   "cell_type": "code",
   "execution_count": null,
   "metadata": {
    "collapsed": true
   },
   "outputs": [],
   "source": [
    "clf = MLPClassifier(activation='relu',solver='lbfgs', alpha=1e-5,hidden_layer_sizes=(30, 5), random_state=1,verbose=True)"
   ]
  },
  {
   "cell_type": "code",
   "execution_count": null,
   "metadata": {},
   "outputs": [],
   "source": [
    "clf.fit(X_train,y_train) "
   ]
  },
  {
   "cell_type": "code",
   "execution_count": null,
   "metadata": {},
   "outputs": [],
   "source": [
    "clf.coefs_"
   ]
  },
  {
   "cell_type": "code",
   "execution_count": null,
   "metadata": {
    "collapsed": true
   },
   "outputs": [],
   "source": [
    "y_pred=clf.predict(X_test)"
   ]
  },
  {
   "cell_type": "code",
   "execution_count": null,
   "metadata": {},
   "outputs": [],
   "source": [
    "RF_cm=metrics.confusion_matrix(y_test,y_pred)\n",
    "print(RF_cm)"
   ]
  },
  {
   "cell_type": "code",
   "execution_count": null,
   "metadata": {
    "collapsed": true
   },
   "outputs": [],
   "source": []
  }
 ],
 "metadata": {
  "kernelspec": {
   "display_name": "Python 2",
   "language": "python",
   "name": "python2"
  },
  "language_info": {
   "codemirror_mode": {
    "name": "ipython",
    "version": 2
   },
   "file_extension": ".py",
   "mimetype": "text/x-python",
   "name": "python",
   "nbconvert_exporter": "python",
   "pygments_lexer": "ipython2",
   "version": "2.7.13"
  }
 },
 "nbformat": 4,
 "nbformat_minor": 2
}
