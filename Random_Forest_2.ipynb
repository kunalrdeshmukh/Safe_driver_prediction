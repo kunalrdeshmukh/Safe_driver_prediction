{
 "cells": [
  {
   "cell_type": "code",
   "execution_count": 1,
   "metadata": {},
   "outputs": [
    {
     "name": "stdout",
     "output_type": "stream",
     "text": [
      "0.18.1\n"
     ]
    }
   ],
   "source": [
    "import pandas as pd\n",
    "import numpy as np\n",
    "import matplotlib.pyplot as plt\n",
    "\n",
    "# machine learning modules\n",
    "import sklearn\n",
    "print(sklearn.__version__)\n",
    "from sklearn.ensemble import RandomForestClassifier\n",
    "from sklearn.model_selection import train_test_split, KFold, cross_val_score\n",
    "from sklearn import metrics\n",
    "from sklearn.metrics import roc_auc_score"
   ]
  },
  {
   "cell_type": "code",
   "execution_count": 2,
   "metadata": {
    "collapsed": true
   },
   "outputs": [],
   "source": [
    "train = pd.read_csv('train.csv')\n",
    "test = pd.read_csv('test.csv')\n",
    "test_copy = test\n",
    "test_copy = test_copy.replace(-1, np.NaN)\n",
    "train_copy = train\n",
    "train_copy = train_copy.replace(-1, np.NaN)"
   ]
  },
  {
   "cell_type": "code",
   "execution_count": 3,
   "metadata": {
    "collapsed": true
   },
   "outputs": [],
   "source": [
    "train_copy['ps_ind_02_cat']=train_copy['ps_ind_02_cat'].fillna(train_copy['ps_ind_02_cat'].value_counts().idxmax())\n",
    "train_copy['ps_ind_04_cat'] = train_copy['ps_ind_04_cat'].fillna(train_copy['ps_ind_04_cat'].value_counts().idxmax())\n",
    "train_copy['ps_ind_05_cat']=train_copy['ps_ind_05_cat'].fillna(train_copy['ps_ind_05_cat'].value_counts().idxmax())\n",
    "train_copy['ps_car_01_cat']=train_copy['ps_car_01_cat'].fillna(train_copy['ps_car_01_cat'].value_counts().idxmax())\n",
    "train_copy['ps_car_02_cat']=train_copy['ps_car_02_cat'].fillna(train_copy['ps_car_02_cat'].value_counts().idxmax())\n",
    "train_copy['ps_car_03_cat']=train_copy['ps_car_03_cat'].fillna(train_copy['ps_car_03_cat'].value_counts().idxmax())\n",
    "train_copy['ps_car_05_cat']=train_copy['ps_car_05_cat'].fillna(train_copy['ps_car_05_cat'].value_counts().idxmax())\n",
    "train_copy['ps_car_07_cat']=train_copy['ps_car_07_cat'].fillna(train_copy['ps_car_07_cat'].value_counts().idxmax())\n",
    "train_copy['ps_car_09_cat']=train_copy['ps_car_09_cat'].fillna(train_copy['ps_car_09_cat'].value_counts().idxmax())\n",
    "train_copy['ps_reg_03']=train_copy['ps_reg_03'].fillna(train_copy['ps_reg_03'].mean())\n",
    "train_copy['ps_car_14']=train_copy['ps_car_14'].fillna(train_copy['ps_car_14'].mean())\n",
    "train_copy['ps_car_11']=train_copy['ps_car_11'].fillna(train_copy['ps_car_11'].mean())\n",
    "train_copy['ps_car_12']=train_copy['ps_car_12'].fillna(train_copy['ps_car_12'].mean())"
   ]
  },
  {
   "cell_type": "code",
   "execution_count": 4,
   "metadata": {
    "collapsed": true
   },
   "outputs": [],
   "source": [
    "test_copy['ps_ind_02_cat']=test_copy['ps_ind_02_cat'].fillna(test_copy['ps_ind_02_cat'].value_counts().idxmax())\n",
    "test_copy['ps_ind_04_cat'] = test_copy['ps_ind_04_cat'].fillna(test_copy['ps_ind_04_cat'].value_counts().idxmax())\n",
    "test_copy['ps_ind_05_cat']=test_copy['ps_ind_05_cat'].fillna(test_copy['ps_ind_05_cat'].value_counts().idxmax())\n",
    "test_copy['ps_car_01_cat']=test_copy['ps_car_01_cat'].fillna(test_copy['ps_car_01_cat'].value_counts().idxmax())\n",
    "test_copy['ps_car_02_cat']=test_copy['ps_car_02_cat'].fillna(test_copy['ps_car_02_cat'].value_counts().idxmax())\n",
    "test_copy['ps_car_03_cat']=test_copy['ps_car_03_cat'].fillna(test_copy['ps_car_03_cat'].value_counts().idxmax())\n",
    "test_copy['ps_car_05_cat']=test_copy['ps_car_05_cat'].fillna(test_copy['ps_car_05_cat'].value_counts().idxmax())\n",
    "test_copy['ps_car_07_cat']=test_copy['ps_car_07_cat'].fillna(test_copy['ps_car_07_cat'].value_counts().idxmax())\n",
    "test_copy['ps_car_09_cat']=test_copy['ps_car_09_cat'].fillna(test_copy['ps_car_09_cat'].value_counts().idxmax())\n",
    "test_copy['ps_reg_03']=test_copy['ps_reg_03'].fillna(test_copy['ps_reg_03'].mean())\n",
    "test_copy['ps_car_14']=test_copy['ps_car_14'].fillna(test_copy['ps_car_14'].mean())\n",
    "test_copy['ps_car_11']=test_copy['ps_car_11'].fillna(test_copy['ps_car_11'].mean())\n",
    "test_copy['ps_car_12']=test_copy['ps_car_12'].fillna(test_copy['ps_car_12'].mean())"
   ]
  },
  {
   "cell_type": "code",
   "execution_count": 5,
   "metadata": {
    "collapsed": true
   },
   "outputs": [],
   "source": [
    "test_data = test_copy\n",
    "train_data = train_copy"
   ]
  },
  {
   "cell_type": "code",
   "execution_count": 6,
   "metadata": {
    "collapsed": true
   },
   "outputs": [],
   "source": [
    "train_data = pd.concat([train_data,train_data.loc[train_data['target'] == 1],train_data.loc[train_data['target'] == 1],train_data.loc[train_data['target'] == 1],train_data.loc[train_data['target'] == 1],train_data.loc[train_data['target'] == 1],train_data.loc[train_data['target'] == 1],train_data.loc[train_data['target'] == 1],train_data.loc[train_data['target'] == 1]])"
   ]
  },
  {
   "cell_type": "code",
   "execution_count": 7,
   "metadata": {
    "collapsed": true
   },
   "outputs": [],
   "source": [
    "test_data_id = test_data.pop('id')"
   ]
  },
  {
   "cell_type": "code",
   "execution_count": 8,
   "metadata": {
    "collapsed": true
   },
   "outputs": [],
   "source": [
    "column_names = train_data.columns\n",
    "categorical_column = column_names[column_names.str[10] == 'c']\n",
    "\n",
    "## Changing categorical columns to category data type\n",
    "def int_to_categorical(data):\n",
    "    \"\"\" \n",
    "    changing columns to catgorical data type\n",
    "    \"\"\"\n",
    "    for column in categorical_column:\n",
    "        data[column] =  data[column].astype('category')"
   ]
  },
  {
   "cell_type": "code",
   "execution_count": 9,
   "metadata": {},
   "outputs": [
    {
     "name": "stdout",
     "output_type": "stream",
     "text": [
      "ps_ind_01            int64\n",
      "ps_ind_02_cat     category\n",
      "ps_ind_03            int64\n",
      "ps_ind_04_cat     category\n",
      "ps_ind_05_cat     category\n",
      "ps_ind_06_bin        int64\n",
      "ps_ind_07_bin        int64\n",
      "ps_ind_08_bin        int64\n",
      "ps_ind_09_bin        int64\n",
      "ps_ind_10_bin        int64\n",
      "ps_ind_11_bin        int64\n",
      "ps_ind_12_bin        int64\n",
      "ps_ind_13_bin        int64\n",
      "ps_ind_14            int64\n",
      "ps_ind_15            int64\n",
      "ps_ind_16_bin        int64\n",
      "ps_ind_17_bin        int64\n",
      "ps_ind_18_bin        int64\n",
      "ps_reg_01          float64\n",
      "ps_reg_02          float64\n",
      "ps_reg_03          float64\n",
      "ps_car_01_cat     category\n",
      "ps_car_02_cat     category\n",
      "ps_car_03_cat     category\n",
      "ps_car_04_cat     category\n",
      "ps_car_05_cat     category\n",
      "ps_car_06_cat     category\n",
      "ps_car_07_cat     category\n",
      "ps_car_08_cat     category\n",
      "ps_car_09_cat     category\n",
      "ps_car_10_cat     category\n",
      "ps_car_11_cat     category\n",
      "ps_car_11          float64\n",
      "ps_car_12          float64\n",
      "ps_car_13          float64\n",
      "ps_car_14          float64\n",
      "ps_car_15          float64\n",
      "ps_calc_01         float64\n",
      "ps_calc_02         float64\n",
      "ps_calc_03         float64\n",
      "ps_calc_04           int64\n",
      "ps_calc_05           int64\n",
      "ps_calc_06           int64\n",
      "ps_calc_07           int64\n",
      "ps_calc_08           int64\n",
      "ps_calc_09           int64\n",
      "ps_calc_10           int64\n",
      "ps_calc_11           int64\n",
      "ps_calc_12           int64\n",
      "ps_calc_13           int64\n",
      "ps_calc_14           int64\n",
      "ps_calc_15_bin       int64\n",
      "ps_calc_16_bin       int64\n",
      "ps_calc_17_bin       int64\n",
      "ps_calc_18_bin       int64\n",
      "ps_calc_19_bin       int64\n",
      "ps_calc_20_bin       int64\n",
      "dtype: object\n"
     ]
    }
   ],
   "source": [
    "datas = [train_data,test_data]\n",
    "\n",
    "for data in datas:\n",
    "    int_to_categorical(data)\n",
    "\n",
    "print(test_data.dtypes)"
   ]
  },
  {
   "cell_type": "code",
   "execution_count": 10,
   "metadata": {
    "collapsed": true
   },
   "outputs": [],
   "source": [
    "def creating_dummies(data):\n",
    "    \"\"\"creating dummies columns categorical varibles\n",
    "    \"\"\"\n",
    "    for column in categorical_column:\n",
    "        dummies = pd.get_dummies(data[column],prefix=column)\n",
    "        data = pd.concat([data,dummies],axis =1)\n",
    "        ## dropping the original columns ##\n",
    "        data.drop([column],axis=1,inplace= True)"
   ]
  },
  {
   "cell_type": "code",
   "execution_count": 11,
   "metadata": {},
   "outputs": [
    {
     "name": "stdout",
     "output_type": "stream",
     "text": [
      "(768764, 220)\n",
      "(892816, 218)\n"
     ]
    }
   ],
   "source": [
    "for column in categorical_column:\n",
    "        dummies = pd.get_dummies(train_data[column],prefix=column)\n",
    "        train_data = pd.concat([train_data,dummies],axis =1)\n",
    "        train_data.drop([column],axis=1,inplace= True)\n",
    "\n",
    "\n",
    "for column in categorical_column:\n",
    "        dummies = pd.get_dummies(test_data[column],prefix=column)\n",
    "        test_data = pd.concat([test_data,dummies],axis =1)\n",
    "        test_data.drop([column],axis=1,inplace= True)\n",
    "\n",
    "print(train_data.shape)\n",
    "print(test_data.shape)"
   ]
  },
  {
   "cell_type": "code",
   "execution_count": 12,
   "metadata": {},
   "outputs": [
    {
     "name": "stdout",
     "output_type": "stream",
     "text": [
      "(768764, 218)\n",
      "(768764,)\n"
     ]
    }
   ],
   "source": [
    "X = train_data.iloc[:,2:] ## FEATURE DATA\n",
    "y= train_data.target ### LABEL DATA\n",
    "\n",
    "### CHECKING DIMENSIONS\n",
    "print(X.shape)\n",
    "print(y.shape)#### SPLITTING DATA INTO TRAIN AND TEST SETS\n",
    "X_train, X_test, y_train, y_test = train_test_split(X, y, random_state=13)\n",
    "\n",
    "\n",
    "### RANDOM FOREST CLASSIFIER\n",
    "\n",
    "\"\"\"\n",
    "number of estimators: 200\n",
    "out of bagging set to True\n",
    "N_jobs: Use all the available cores= -1\n",
    "min_sample_leaf: minimum number of samples required to be at a leaf node\n",
    "\"\"\"\n",
    "RF_model_cat= RandomForestClassifier(200,oob_score=True,random_state=13,\n",
    "                                     n_jobs = -1, min_samples_leaf = 100)"
   ]
  },
  {
   "cell_type": "code",
   "execution_count": 13,
   "metadata": {},
   "outputs": [
    {
     "name": "stdout",
     "output_type": "stream",
     "text": [
      "('Predicted probabilities: \\n', array([[ 0.69566214,  0.30433786],\n",
      "       [ 0.78499997,  0.21500003],\n",
      "       [ 0.8275845 ,  0.1724155 ],\n",
      "       ..., \n",
      "       [ 0.66831918,  0.33168082],\n",
      "       [ 0.72118046,  0.27881954],\n",
      "       [ 0.72381238,  0.27618762]]))\n",
      "('Predicted classes: \\n', array([0, 0, 0, ..., 0, 0, 0]))\n",
      "('RF Score: ', 0.74660103750956075)\n",
      "[[143313     16]\n",
      " [ 48685    177]]\n"
     ]
    }
   ],
   "source": [
    "### FITTING RANDOM MODEL \n",
    "RF_model_cat.fit(X_train, y_train)\n",
    "\n",
    "#Obtain class predictions\n",
    "y_pred_RF_prob = RF_model_cat.predict_proba(X_test)\n",
    "print('Predicted probabilities: \\n', y_pred_RF_prob)\n",
    "\n",
    "#Obtain probability predictions\n",
    "y_pred_RF_class = RF_model_cat.predict(X_test)\n",
    "print('Predicted classes: \\n', y_pred_RF_class)\n",
    "\n",
    "print('RF Score: ', metrics.accuracy_score(y_test, y_pred_RF_class))\n",
    "\n",
    "## CONFUSION MATRIX\n",
    "RF_cm=metrics.confusion_matrix(y_test,y_pred_RF_class)\n",
    "print(RF_cm)"
   ]
  },
  {
   "cell_type": "code",
   "execution_count": 14,
   "metadata": {
    "collapsed": true
   },
   "outputs": [],
   "source": [
    "#### Predicition on test data ####\n",
    "y_pred_RF_prob = RF_model_cat.predict_proba(test_data)\n",
    "pred_values= pd.DataFrame(y_pred_RF_prob)\n",
    "\n",
    "submission_simple_RF= pd.DataFrame()\n",
    "submission_simple_RF['id'] = test_data_id\n",
    "\n",
    "submission_simple_RF['target'] = pd.DataFrame(pred_values.iloc[:,1])\n",
    "submission_simple_RF = submission_simple_RF.set_index('id')\n",
    "\n",
    "submission_simple_RF.columns\n",
    "submission_simple_RF.head()\n",
    "## Write to CSV\n",
    "submission_simple_RF.to_csv(\"prediction_random_forest_2.csv\")"
   ]
  },
  {
   "cell_type": "code",
   "execution_count": null,
   "metadata": {
    "collapsed": true
   },
   "outputs": [],
   "source": []
  }
 ],
 "metadata": {
  "kernelspec": {
   "display_name": "Python 2",
   "language": "python",
   "name": "python2"
  },
  "language_info": {
   "codemirror_mode": {
    "name": "ipython",
    "version": 2
   },
   "file_extension": ".py",
   "mimetype": "text/x-python",
   "name": "python",
   "nbconvert_exporter": "python",
   "pygments_lexer": "ipython2",
   "version": "2.7.13"
  }
 },
 "nbformat": 4,
 "nbformat_minor": 2
}
